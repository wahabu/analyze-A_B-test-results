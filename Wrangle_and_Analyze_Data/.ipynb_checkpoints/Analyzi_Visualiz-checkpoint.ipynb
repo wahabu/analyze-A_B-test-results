{
 "cells": [
  {
   "cell_type": "markdown",
   "metadata": {},
   "source": [
    "#   Data Analyzi & Visualiz - WeRateDogs\n",
    "\n",
    "#### By: Abdulwahab Bawahab"
   ]
  },
  {
   "cell_type": "markdown",
   "metadata": {},
   "source": [
    "## Introduction\n",
    "\n",
    "\n",
    "#### Analyzing and Visualizing Data\n",
    "\n",
    "Here we will analyze and visualize our data in twitter archive of the Twitter user **@dog_rates**."
   ]
  },
  {
   "cell_type": "markdown",
   "metadata": {},
   "source": [
    "## Analyzing & Visualizing Data"
   ]
  },
  {
   "cell_type": "code",
   "execution_count": 1,
   "metadata": {},
   "outputs": [],
   "source": [
    "# Import packages\n",
    "import pandas as pd\n",
    "%matplotlib inline\n",
    "import numpy as np\n",
    "import seaborn as sns\n",
    "import matplotlib.pyplot as plt\n",
    "from matplotlib import dates"
   ]
  },
  {
   "cell_type": "markdown",
   "metadata": {},
   "source": [
    "## Load Data"
   ]
  },
  {
   "cell_type": "code",
   "execution_count": 2,
   "metadata": {},
   "outputs": [
    {
     "data": {
      "text/html": [
       "<div>\n",
       "<style scoped>\n",
       "    .dataframe tbody tr th:only-of-type {\n",
       "        vertical-align: middle;\n",
       "    }\n",
       "\n",
       "    .dataframe tbody tr th {\n",
       "        vertical-align: top;\n",
       "    }\n",
       "\n",
       "    .dataframe thead th {\n",
       "        text-align: right;\n",
       "    }\n",
       "</style>\n",
       "<table border=\"1\" class=\"dataframe\">\n",
       "  <thead>\n",
       "    <tr style=\"text-align: right;\">\n",
       "      <th></th>\n",
       "      <th>tweet_id</th>\n",
       "      <th>in_reply_to_status_id</th>\n",
       "      <th>in_reply_to_user_id</th>\n",
       "      <th>timestamp</th>\n",
       "      <th>text</th>\n",
       "      <th>expanded_urls</th>\n",
       "      <th>rating_numerator</th>\n",
       "      <th>rating_denominator</th>\n",
       "      <th>name</th>\n",
       "      <th>stages</th>\n",
       "      <th>jpg_url</th>\n",
       "      <th>retweet_count</th>\n",
       "      <th>favorite_count</th>\n",
       "      <th>dog_predict</th>\n",
       "      <th>dog_conf</th>\n",
       "    </tr>\n",
       "  </thead>\n",
       "  <tbody>\n",
       "    <tr>\n",
       "      <th>0</th>\n",
       "      <td>892177421306343426</td>\n",
       "      <td>NaN</td>\n",
       "      <td>NaN</td>\n",
       "      <td>2017-08-01 00:17:27 +0000</td>\n",
       "      <td>This is Tilly. She's just checking pup on you....</td>\n",
       "      <td>https://twitter.com/dog_rates/status/892177421...</td>\n",
       "      <td>13.0</td>\n",
       "      <td>10</td>\n",
       "      <td>Tilly</td>\n",
       "      <td>NaN</td>\n",
       "      <td>https://pbs.twimg.com/media/DGGmoV4XsAAUL6n.jpg</td>\n",
       "      <td>6514</td>\n",
       "      <td>33819</td>\n",
       "      <td>chihuahua</td>\n",
       "      <td>0.323581</td>\n",
       "    </tr>\n",
       "    <tr>\n",
       "      <th>1</th>\n",
       "      <td>891815181378084864</td>\n",
       "      <td>NaN</td>\n",
       "      <td>NaN</td>\n",
       "      <td>2017-07-31 00:18:03 +0000</td>\n",
       "      <td>This is Archie. He is a rare Norwegian Pouncin...</td>\n",
       "      <td>https://twitter.com/dog_rates/status/891815181...</td>\n",
       "      <td>12.0</td>\n",
       "      <td>10</td>\n",
       "      <td>Archie</td>\n",
       "      <td>NaN</td>\n",
       "      <td>https://pbs.twimg.com/media/DGBdLU1WsAANxJ9.jpg</td>\n",
       "      <td>4328</td>\n",
       "      <td>25461</td>\n",
       "      <td>chihuahua</td>\n",
       "      <td>0.716012</td>\n",
       "    </tr>\n",
       "    <tr>\n",
       "      <th>2</th>\n",
       "      <td>891689557279858688</td>\n",
       "      <td>NaN</td>\n",
       "      <td>NaN</td>\n",
       "      <td>2017-07-30 15:58:51 +0000</td>\n",
       "      <td>This is Darla. She commenced a snooze mid meal...</td>\n",
       "      <td>https://twitter.com/dog_rates/status/891689557...</td>\n",
       "      <td>13.0</td>\n",
       "      <td>10</td>\n",
       "      <td>Darla</td>\n",
       "      <td>NaN</td>\n",
       "      <td>https://pbs.twimg.com/media/DF_q7IAWsAEuuN8.jpg</td>\n",
       "      <td>8964</td>\n",
       "      <td>42908</td>\n",
       "      <td>labrador retriever</td>\n",
       "      <td>0.168086</td>\n",
       "    </tr>\n",
       "  </tbody>\n",
       "</table>\n",
       "</div>"
      ],
      "text/plain": [
       "             tweet_id  in_reply_to_status_id  in_reply_to_user_id  \\\n",
       "0  892177421306343426                    NaN                  NaN   \n",
       "1  891815181378084864                    NaN                  NaN   \n",
       "2  891689557279858688                    NaN                  NaN   \n",
       "\n",
       "                   timestamp  \\\n",
       "0  2017-08-01 00:17:27 +0000   \n",
       "1  2017-07-31 00:18:03 +0000   \n",
       "2  2017-07-30 15:58:51 +0000   \n",
       "\n",
       "                                                text  \\\n",
       "0  This is Tilly. She's just checking pup on you....   \n",
       "1  This is Archie. He is a rare Norwegian Pouncin...   \n",
       "2  This is Darla. She commenced a snooze mid meal...   \n",
       "\n",
       "                                       expanded_urls  rating_numerator  \\\n",
       "0  https://twitter.com/dog_rates/status/892177421...              13.0   \n",
       "1  https://twitter.com/dog_rates/status/891815181...              12.0   \n",
       "2  https://twitter.com/dog_rates/status/891689557...              13.0   \n",
       "\n",
       "   rating_denominator    name stages  \\\n",
       "0                  10   Tilly    NaN   \n",
       "1                  10  Archie    NaN   \n",
       "2                  10   Darla    NaN   \n",
       "\n",
       "                                           jpg_url  retweet_count  \\\n",
       "0  https://pbs.twimg.com/media/DGGmoV4XsAAUL6n.jpg           6514   \n",
       "1  https://pbs.twimg.com/media/DGBdLU1WsAANxJ9.jpg           4328   \n",
       "2  https://pbs.twimg.com/media/DF_q7IAWsAEuuN8.jpg           8964   \n",
       "\n",
       "   favorite_count         dog_predict  dog_conf  \n",
       "0           33819           chihuahua  0.323581  \n",
       "1           25461           chihuahua  0.716012  \n",
       "2           42908  labrador retriever  0.168086  "
      ]
     },
     "execution_count": 2,
     "metadata": {},
     "output_type": "execute_result"
    }
   ],
   "source": [
    "# Load Dataset of twitter archive master\n",
    "archive_tw = pd.read_csv('twitter_archive_master.csv', encoding = 'utf-8')\n",
    "archive_tw.head(3)"
   ]
  },
  {
   "cell_type": "markdown",
   "metadata": {},
   "source": [
    "### 1.Insight"
   ]
  },
  {
   "cell_type": "markdown",
   "metadata": {},
   "source": [
    "#### We want to see the count of dogs stages in the tweets and what stage showing as the most in WeRateDogs Twitter account."
   ]
  },
  {
   "cell_type": "code",
   "execution_count": 3,
   "metadata": {},
   "outputs": [
    {
     "data": {
      "text/plain": [
       "pupper            168\n",
       "doggo              54\n",
       "puppo              21\n",
       "doggo, pupper       8\n",
       "floofer             7\n",
       "doggo, floofer      1\n",
       "doggo, puppo        1\n",
       "Name: stages, dtype: int64"
      ]
     },
     "execution_count": 3,
     "metadata": {},
     "output_type": "execute_result"
    }
   ],
   "source": [
    "# count of the dog stages column\n",
    "dog_stages = archive_tw['stages'].value_counts()\n",
    "dog_stages"
   ]
  },
  {
   "cell_type": "code",
   "execution_count": 4,
   "metadata": {},
   "outputs": [
    {
     "data": {
      "image/png": "[encoded data removed]",
      "text/plain": [
       "<Figure size 720x432 with 1 Axes>"
      ]
     },
     "metadata": {
      "needs_background": "light"
     },
     "output_type": "display_data"
    }
   ],
   "source": [
    "# plot bar for count of the dogs stages\n",
    "\n",
    "dog_stages.plot(kind='bar', figsize=(10,6), color='#CD5C5C')\n",
    "plt.title(\"Count The Dog Stages\", fontsize=15, color='black')\n",
    "plt.xlabel(\"Stages\" ,fontsize=12, color='black')\n",
    "plt.ylabel(\"Count Stages Number\" ,fontsize=12, color='black');\n",
    "\n",
    "# save\n",
    "plt.savefig('Count_Dogs_Stages', dpi=80, bbox_inches='tight');"
   ]
  },
  {
   "cell_type": "markdown",
   "metadata": {},
   "source": [
    "### Conclusion"
   ]
  },
  {
   "cell_type": "markdown",
   "metadata": {},
   "source": [
    "We find in our analysis that the **Pupper** dog stages are the most common rating in the **WeRateDogs** Twitter account with **168** tweets. And then comes **Doggo** in the second with **54** tweets. Then **Puppo** with **21** tweets and **Floofer** with **7** tweets.\n",
    "\n",
    "And we find some dogs classcificated under two type **doggo, pupper** with **8** tweets. \n",
    "\n",
    "And **doggo, floofer** & **doggo, puppo** with one tweet.\n",
    "\n",
    "We can say that many people prefer young dogs and interested in it than the older one."
   ]
  },
  {
   "cell_type": "markdown",
   "metadata": {},
   "source": [
    "### 2.Insight"
   ]
  },
  {
   "cell_type": "markdown",
   "metadata": {},
   "source": [
    "#### We want to see the count of dogs types in the tweets and the most type in WeRateDogs Twitter account."
   ]
  },
  {
   "cell_type": "code",
   "execution_count": 5,
   "metadata": {
    "scrolled": true
   },
   "outputs": [
    {
     "data": {
      "text/plain": [
       "golden retriever                  158\n",
       "labrador retriever                108\n",
       "pembroke                           95\n",
       "chihuahua                          91\n",
       "pug                                62\n",
       "toy poodle                         51\n",
       "chow                               48\n",
       "pomeranian                         42\n",
       "samoyed                            42\n",
       "malamute                           33\n",
       "french bulldog                     31\n",
       "chesapeake bay retriever           31\n",
       "cocker spaniel                     30\n",
       "miniature pinscher                 25\n",
       "eskimo dog                         22\n",
       "german shepherd                    21\n",
       "staffordshire bullterrier          21\n",
       "cardigan                           21\n",
       "shih-tzu                           20\n",
       "siberian husky                     20\n",
       "beagle                             20\n",
       "shetland sheepdog                  19\n",
       "rottweiler                         19\n",
       "maltese dog                        19\n",
       "kuvasz                             18\n",
       "lakeland terrier                   18\n",
       "basset                             17\n",
       "italian greyhound                  17\n",
       "american staffordshire terrier     16\n",
       "west highland white terrier        16\n",
       "                                 ... \n",
       "welsh springer spaniel              4\n",
       "scottish deerhound                  4\n",
       "tibetan terrier                     4\n",
       "rhodesian ridgeback                 4\n",
       "irish setter                        4\n",
       "keeshond                            4\n",
       "cairn                               3\n",
       "irish water spaniel                 3\n",
       "greater swiss mountain dog          3\n",
       "komondor                            3\n",
       "brabancon griffon                   3\n",
       "curly-coated retriever              3\n",
       "afghan hound                        3\n",
       "toy terrier                         3\n",
       "briard                              3\n",
       "leonberg                            3\n",
       "black-and-tan coonhound             2\n",
       "sussex spaniel                      2\n",
       "australian terrier                  2\n",
       "groenendael                         2\n",
       "wire-haired fox terrier             2\n",
       "appenzeller                         2\n",
       "scotch terrier                      1\n",
       "clumber                             1\n",
       "entlebucher                         1\n",
       "bouvier des flandres                1\n",
       "silky terrier                       1\n",
       "standard schnauzer                  1\n",
       "irish wolfhound                     1\n",
       "japanese spaniel                    1\n",
       "Name: dog_predict, Length: 113, dtype: int64"
      ]
     },
     "execution_count": 5,
     "metadata": {},
     "output_type": "execute_result"
    }
   ],
   "source": [
    "# the dog type count\n",
    "\n",
    "predic = archive_tw['dog_predict'].value_counts()\n",
    "predic"
   ]
  },
  {
   "cell_type": "code",
   "execution_count": 6,
   "metadata": {},
   "outputs": [
    {
     "data": {
      "text/plain": [
       "golden retriever      158\n",
       "labrador retriever    108\n",
       "pembroke               95\n",
       "chihuahua              91\n",
       "pug                    62\n",
       "toy poodle             51\n",
       "chow                   48\n",
       "pomeranian             42\n",
       "Name: dog_predict, dtype: int64"
      ]
     },
     "execution_count": 6,
     "metadata": {},
     "output_type": "execute_result"
    }
   ],
   "source": [
    "top_predic = predic.nlargest(8)\n",
    "top_predic"
   ]
  },
  {
   "cell_type": "code",
   "execution_count": 7,
   "metadata": {},
   "outputs": [
    {
     "data": {
      "image/png": "[encoded data removed]",
      "text/plain": [
       "<Figure size 720x432 with 1 Axes>"
      ]
     },
     "metadata": {
      "needs_background": "light"
     },
     "output_type": "display_data"
    }
   ],
   "source": [
    "# plot bar horizontal to count the 8 most type of dogs.\n",
    "\n",
    "top_predic.plot(kind = 'barh', figsize=(10,6), color='#FF5733')\n",
    "plt.title('Count Of Most Dogs Types', fontsize=15, color = 'black')\n",
    "plt.xlabel('Number Count', fontsize = 12, color = 'black')\n",
    "plt.ylabel('Dog Types', fontsize = 12, color = 'black')\n",
    "\n",
    "# save\n",
    "plt.savefig('Count_Dogs_types', dpi=80, bbox_inches='tight');"
   ]
  },
  {
   "cell_type": "markdown",
   "metadata": {},
   "source": [
    "### Conclusion"
   ]
  },
  {
   "cell_type": "markdown",
   "metadata": {},
   "source": [
    "Here, the **Golden Retriever** comes in the first place of the dog kinds, with 158 in the **WeRateDogs** Twitter account.\n",
    "Then **Labrador Retriever** as the second kind with 106 tweets.\n",
    "And then comes the shortest height of dogs the **Pembroke** and **Chihuahua** kind in third and fourth place.\n",
    "Then comes in order by the top kind  **Pug**, **Toy Poodle**, **Chow**, and **Samoyed** dogs, and recorded as the top eight of kinds dogs.\n",
    "So, in conclusion, I guess people prefer large dogs in height than the short dog's but still many short dogs kinds got in the top eight with high popularity."
   ]
  },
  {
   "cell_type": "markdown",
   "metadata": {},
   "source": [
    "### 3.Insight"
   ]
  },
  {
   "cell_type": "markdown",
   "metadata": {},
   "source": [
    "#### The relationship between retweet count and favorite count."
   ]
  },
  {
   "cell_type": "code",
   "execution_count": 8,
   "metadata": {},
   "outputs": [
    {
     "data": {
      "image/png": "[encoded data removed]",
      "text/plain": [
       "<Figure size 720x432 with 1 Axes>"
      ]
     },
     "metadata": {
      "needs_background": "light"
     },
     "output_type": "display_data"
    }
   ],
   "source": [
    "# scutter plots for retweet count with favorite count\n",
    "\n",
    "plt.figure(figsize = [10, 6])\n",
    "sns.regplot(data = archive_tw, x = 'retweet_count', y = 'favorite_count');\n",
    "plt.xlabel('Retweet Count', fontsize = 12, color='black')\n",
    "plt.ylabel('Favorite Count', fontsize = 12, color='black')\n",
    "plt.title('Distribution Of Retweet Count Delay With Favorite Count', fontsize = 15, color='black');\n",
    "\n",
    "# save\n",
    "plt.savefig('Distribution_RetweetCount_With_FavoriteCount', dpi=80, bbox_inches='tight');"
   ]
  },
  {
   "cell_type": "markdown",
   "metadata": {},
   "source": [
    "### Conclusion"
   ]
  },
  {
   "cell_type": "markdown",
   "metadata": {},
   "source": [
    "We can see from this plot the relationship between the retweet count and favorite count goes as a **positive correlation**.\n",
    "and as we see there are a big distribution on the little count of the retweet and favorite, but it goes less on the larges one.\n",
    "also, we find the tweets almost always got retweet less than got favorite.\n",
    "And there are few tweets with a big count of retweet and count of the favorite about a 20k retweet and a 70k favorite."
   ]
  }
 ],
 "metadata": {
  "kernelspec": {
   "display_name": "Python 3",
   "language": "python",
   "name": "python3"
  },
  "language_info": {
   "codemirror_mode": {
    "name": "ipython",
    "version": 3
   },
   "file_extension": ".py",
   "mimetype": "text/x-python",
   "name": "python",
   "nbconvert_exporter": "python",
   "pygments_lexer": "ipython3",
   "version": "3.7.1"
  }
 },
 "nbformat": 4,
 "nbformat_minor": 2
}
